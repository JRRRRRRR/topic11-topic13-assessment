{
 "cells": [
  {
   "cell_type": "markdown",
   "metadata": {},
   "source": [
    "# Objectives\n",
    "YW\n",
    "* scrape a website for relevant information, store that information to a dataframe and save that dataframe as a csv file\n",
    "* load in a dataframe and do the following\n",
    "    * calculate the zscores of a given column\n",
    "    * calculate the zscores of a point from a given column in the dataframe\n",
    "    * calculate and plot the pmf and cdf of another column"
   ]
  },
  {
   "cell_type": "markdown",
   "metadata": {},
   "source": [
    "# Part 1 - Webscraping\n",
    "* use the following url scrape the first page of results\n",
    "* for each item get the name of the item\n",
    "* store the names to a dataframe and save that dataframe to csv then display\n",
    "    * store the dataframe in the `data` folder in the repo\n",
    "    * name the file `part1.csv` and make sure that when you write it you set `index=False`\n",
    "* the head of the dataframe\n",
    "\n",
    "* it should match the following\n",
    "<img src=\"solutions/images/part1.png\"/>"
   ]
  },
  {
   "cell_type": "code",
   "execution_count": 1,
   "metadata": {},
   "outputs": [],
   "source": [
    "from bs4 import BeautifulSoup\n",
    "import requests\n",
    "import pandas as pd"
   ]
  },
  {
   "cell_type": "code",
   "execution_count": 2,
   "metadata": {},
   "outputs": [],
   "source": [
    "url = \"https://www.petsmart.com/dog/treats/dental-treats/#page_name=flyout&category=dog&cta=dentaltreat\""
   ]
  },
  {
   "cell_type": "code",
   "execution_count": 3,
   "metadata": {},
   "outputs": [],
   "source": [
    "# scrape the names of the items on the webpage above\n",
    "soup = BeautifulSoup(requests.get(url).content, 'html.parser')\n",
    "soup.prettify\n",
    "container = soup.find('div', class_='search-result-content')\n",
    "title = container.find_all('h3')\n",
    "title_lst = [i.text for i in title]"
   ]
  },
  {
   "cell_type": "code",
   "execution_count": 4,
   "metadata": {},
   "outputs": [],
   "source": [
    "# load the data into a dataframe file\n",
    "df = pd.DataFrame(title_lst)\n",
    "df.columns = ['name']"
   ]
  },
  {
   "cell_type": "code",
   "execution_count": 5,
   "metadata": {},
   "outputs": [],
   "source": [
    "# save the data as a csv file\n",
    "df.to_csv('data/part1.csv', index=False)"
   ]
  },
  {
   "cell_type": "code",
   "execution_count": 6,
   "metadata": {},
   "outputs": [
    {
     "data": {
      "text/html": [
       "<div>\n",
       "<style scoped>\n",
       "    .dataframe tbody tr th:only-of-type {\n",
       "        vertical-align: middle;\n",
       "    }\n",
       "\n",
       "    .dataframe tbody tr th {\n",
       "        vertical-align: top;\n",
       "    }\n",
       "\n",
       "    .dataframe thead th {\n",
       "        text-align: right;\n",
       "    }\n",
       "</style>\n",
       "<table border=\"1\" class=\"dataframe\">\n",
       "  <thead>\n",
       "    <tr style=\"text-align: right;\">\n",
       "      <th></th>\n",
       "      <th>name</th>\n",
       "    </tr>\n",
       "  </thead>\n",
       "  <tbody>\n",
       "    <tr>\n",
       "      <th>0</th>\n",
       "      <td>Greenies Regular Dental Dog Treats</td>\n",
       "    </tr>\n",
       "    <tr>\n",
       "      <th>1</th>\n",
       "      <td>Greenies Teenie Dental Dog Treats</td>\n",
       "    </tr>\n",
       "    <tr>\n",
       "      <th>2</th>\n",
       "      <td>Greenies Large Dental Dog Treats</td>\n",
       "    </tr>\n",
       "    <tr>\n",
       "      <th>3</th>\n",
       "      <td>Authority® Dental &amp; DHA Stick Puppy Treats Par...</td>\n",
       "    </tr>\n",
       "    <tr>\n",
       "      <th>4</th>\n",
       "      <td>Greenies Petite Dental Dog Treats</td>\n",
       "    </tr>\n",
       "  </tbody>\n",
       "</table>\n",
       "</div>"
      ],
      "text/plain": [
       "                                                name\n",
       "0                 Greenies Regular Dental Dog Treats\n",
       "1                  Greenies Teenie Dental Dog Treats\n",
       "2                   Greenies Large Dental Dog Treats\n",
       "3  Authority® Dental & DHA Stick Puppy Treats Par...\n",
       "4                  Greenies Petite Dental Dog Treats"
      ]
     },
     "execution_count": 6,
     "metadata": {},
     "output_type": "execute_result"
    }
   ],
   "source": [
    "# display df.head()\n",
    "df.head()"
   ]
  },
  {
   "cell_type": "markdown",
   "metadata": {},
   "source": [
    "# Part 2\n",
    "\n",
    "load in the csv file located in the `data` folder called `part2.csv`\n",
    "\n",
    "create a function that calculates the zscores of an array\n",
    "\n",
    "then calculate the zscores for each column in part2.csv and add them as columns\n",
    "\n",
    "See below for final result\n",
    "\n",
    "<img src=\"solutions/images/part2_df_preview.png\"/>"
   ]
  },
  {
   "cell_type": "code",
   "execution_count": 7,
   "metadata": {},
   "outputs": [],
   "source": [
    "import numpy as np"
   ]
  },
  {
   "cell_type": "code",
   "execution_count": 8,
   "metadata": {},
   "outputs": [],
   "source": [
    "# load in the dataframe, notice it only contains columns salaries, NPS Score, eventOutcome\n",
    "df2 = pd.read_csv('data/part2.csv')"
   ]
  },
  {
   "cell_type": "code",
   "execution_count": 9,
   "metadata": {},
   "outputs": [
    {
     "name": "stdout",
     "output_type": "stream",
     "text": [
      "<class 'pandas.core.frame.DataFrame'>\n",
      "RangeIndex: 5000 entries, 0 to 4999\n",
      "Data columns (total 3 columns):\n",
      "salaries        5000 non-null float64\n",
      "NPS Score       5000 non-null float64\n",
      "eventOutcome    5000 non-null int64\n",
      "dtypes: float64(2), int64(1)\n",
      "memory usage: 117.3 KB\n"
     ]
    }
   ],
   "source": [
    "df2.info()"
   ]
  },
  {
   "cell_type": "code",
   "execution_count": 10,
   "metadata": {},
   "outputs": [],
   "source": [
    "def zscores(arr):\n",
    "    \"\"\"\n",
    "    write a function that calculates \n",
    "    the zscores of a numpy arr, arr.\n",
    "    \"\"\"\n",
    "    zs = []\n",
    "    for i in arr:\n",
    "        z = (i-arr.mean()) / arr.std()\n",
    "        zs.append(z)\n",
    "    return zs"
   ]
  },
  {
   "cell_type": "code",
   "execution_count": 11,
   "metadata": {},
   "outputs": [],
   "source": [
    "# calculate the zscore for each column and store them as a new column with the names used above\n",
    "salaries_zscores = zscores(np.array(df2['salaries']))\n",
    "NPS_zscores = zscores(np.array(df2['NPS Score']))\n",
    "eventOutcome_zscores = zscores(np.array(df2['eventOutcome']))"
   ]
  },
  {
   "cell_type": "code",
   "execution_count": 12,
   "metadata": {},
   "outputs": [
    {
     "data": {
      "text/html": [
       "<div>\n",
       "<style scoped>\n",
       "    .dataframe tbody tr th:only-of-type {\n",
       "        vertical-align: middle;\n",
       "    }\n",
       "\n",
       "    .dataframe tbody tr th {\n",
       "        vertical-align: top;\n",
       "    }\n",
       "\n",
       "    .dataframe thead th {\n",
       "        text-align: right;\n",
       "    }\n",
       "</style>\n",
       "<table border=\"1\" class=\"dataframe\">\n",
       "  <thead>\n",
       "    <tr style=\"text-align: right;\">\n",
       "      <th></th>\n",
       "      <th>salaries</th>\n",
       "      <th>NPS Score</th>\n",
       "      <th>eventOutcome</th>\n",
       "      <th>salaries_zscores</th>\n",
       "      <th>NPS Score_zscores</th>\n",
       "      <th>eventOutcome_zscores</th>\n",
       "    </tr>\n",
       "  </thead>\n",
       "  <tbody>\n",
       "    <tr>\n",
       "      <th>0</th>\n",
       "      <td>44112.0</td>\n",
       "      <td>-7.0</td>\n",
       "      <td>1</td>\n",
       "      <td>-1.460301</td>\n",
       "      <td>-0.913613</td>\n",
       "      <td>-1.103276</td>\n",
       "    </tr>\n",
       "    <tr>\n",
       "      <th>1</th>\n",
       "      <td>46777.0</td>\n",
       "      <td>-12.0</td>\n",
       "      <td>2</td>\n",
       "      <td>-0.794061</td>\n",
       "      <td>-1.080776</td>\n",
       "      <td>-0.668162</td>\n",
       "    </tr>\n",
       "    <tr>\n",
       "      <th>2</th>\n",
       "      <td>50013.0</td>\n",
       "      <td>50.0</td>\n",
       "      <td>5</td>\n",
       "      <td>0.014927</td>\n",
       "      <td>0.992046</td>\n",
       "      <td>0.637182</td>\n",
       "    </tr>\n",
       "    <tr>\n",
       "      <th>3</th>\n",
       "      <td>48983.0</td>\n",
       "      <td>-13.0</td>\n",
       "      <td>0</td>\n",
       "      <td>-0.242569</td>\n",
       "      <td>-1.114209</td>\n",
       "      <td>-1.538391</td>\n",
       "    </tr>\n",
       "    <tr>\n",
       "      <th>4</th>\n",
       "      <td>50751.0</td>\n",
       "      <td>-11.0</td>\n",
       "      <td>6</td>\n",
       "      <td>0.199425</td>\n",
       "      <td>-1.047343</td>\n",
       "      <td>1.072296</td>\n",
       "    </tr>\n",
       "  </tbody>\n",
       "</table>\n",
       "</div>"
      ],
      "text/plain": [
       "   salaries  NPS Score  eventOutcome  salaries_zscores  NPS Score_zscores  \\\n",
       "0   44112.0       -7.0             1         -1.460301          -0.913613   \n",
       "1   46777.0      -12.0             2         -0.794061          -1.080776   \n",
       "2   50013.0       50.0             5          0.014927           0.992046   \n",
       "3   48983.0      -13.0             0         -0.242569          -1.114209   \n",
       "4   50751.0      -11.0             6          0.199425          -1.047343   \n",
       "\n",
       "   eventOutcome_zscores  \n",
       "0             -1.103276  \n",
       "1             -0.668162  \n",
       "2              0.637182  \n",
       "3             -1.538391  \n",
       "4              1.072296  "
      ]
     },
     "execution_count": 12,
     "metadata": {},
     "output_type": "execute_result"
    }
   ],
   "source": [
    "df2['salaries_zscores'] = salaries_zscores\n",
    "df2['NPS Score_zscores'] = NPS_zscores\n",
    "df2['eventOutcome_zscores'] = eventOutcome_zscores\n",
    "df2.head()"
   ]
  },
  {
   "cell_type": "markdown",
   "metadata": {},
   "source": [
    "# Part 3 \n",
    "plot 'salaries' and 'NPS Score' on a subplot (1 row 2 columns) \n",
    "then repeat this for the zscores\n",
    "\n",
    "see image below for reference\n",
    "<img src=\"solutions/images/part2-plots.png\"/>"
   ]
  },
  {
   "cell_type": "code",
   "execution_count": 13,
   "metadata": {},
   "outputs": [],
   "source": [
    "import matplotlib.pyplot as plt\n",
    "%matplotlib inline"
   ]
  },
  {
   "cell_type": "code",
   "execution_count": 14,
   "metadata": {},
   "outputs": [
    {
     "data": {
      "image/png": "[encoded data removed]",
      "text/plain": [
       "<Figure size 864x432 with 2 Axes>"
      ]
     },
     "metadata": {
      "needs_background": "light"
     },
     "output_type": "display_data"
    }
   ],
   "source": [
    "# plot for raw salaries and NPS Score data goes here\n",
    "fig, (ax1, ax2) = plt.subplots(nrows=1, ncols=2, figsize=(12,6))\n",
    "ax1.hist(df2['salaries'])\n",
    "ax1.set_xlabel('salaries')\n",
    "ax1.set_ylabel('Frequency')\n",
    "ax1.set_title('salaries')\n",
    "ax2.hist(df2['NPS Score'])\n",
    "ax2.set_xlabel('NPS Scores')\n",
    "ax2.set_title('NPS Scores')\n",
    "plt.show()"
   ]
  },
  {
   "cell_type": "code",
   "execution_count": 15,
   "metadata": {},
   "outputs": [
    {
     "data": {
      "image/png": "[encoded data removed]",
      "text/plain": [
       "<Figure size 864x432 with 2 Axes>"
      ]
     },
     "metadata": {
      "needs_background": "light"
     },
     "output_type": "display_data"
    }
   ],
   "source": [
    "# plot for zscores for salaries and NPS Score data goes here\n",
    "fig, (ax1, ax2) = plt.subplots(nrows=1, ncols=2, figsize=(12,6))\n",
    "ax1.hist(df2['salaries_zscores'])\n",
    "ax1.set_xlabel('salaries')\n",
    "ax1.set_ylabel('Frequency')\n",
    "ax1.set_title('salaries zscores')\n",
    "ax2.hist(df2['NPS Score_zscores'])\n",
    "ax2.set_xlabel('NPS Scores')\n",
    "ax2.set_title('NPS Scores zscores')\n",
    "plt.show()"
   ]
  },
  {
   "cell_type": "markdown",
   "metadata": {},
   "source": [
    "# Part 4 - PMF\n",
    "using the column 'eventOutcomes'\n",
    "\n",
    "create a PMF and plot the PMF as a bar chart\n",
    "\n",
    "See image below for referenc\n",
    "\n",
    "<img src=\"solutions/images/part4_pmf.png\"/>"
   ]
  },
  {
   "cell_type": "code",
   "execution_count": 16,
   "metadata": {},
   "outputs": [
    {
     "data": {
      "text/plain": [
       "[0.1248, 0.1216, 0.1184, 0.1272, 0.1332, 0.1182, 0.1244, 0.1322]"
      ]
     },
     "execution_count": 16,
     "metadata": {},
     "output_type": "execute_result"
    }
   ],
   "source": [
    "n,m = np.histogram(df2['eventOutcome'])\n",
    "probs = []\n",
    "for i in n:\n",
    "    if i != 0:\n",
    "        probs.append(i/5000)\n",
    "probs"
   ]
  },
  {
   "cell_type": "code",
   "execution_count": 17,
   "metadata": {},
   "outputs": [
    {
     "data": {
      "image/png": "[encoded data removed]",
      "text/plain": [
       "<Figure size 432x288 with 1 Axes>"
      ]
     },
     "metadata": {
      "needs_background": "light"
     },
     "output_type": "display_data"
    }
   ],
   "source": [
    "plt.bar(x=np.arange(0,8,1),\n",
    "       height=probs)\n",
    "plt.xlabel('Event Outcome')\n",
    "plt.ylabel('Probability')\n",
    "plt.title('Event Outcome PMF')\n",
    "plt.show()"
   ]
  },
  {
   "cell_type": "markdown",
   "metadata": {},
   "source": [
    "# Part 5 - CDF\n",
    "plot the CDF of Event Outcomes as a scatter plot using the information above\n",
    "\n",
    "See image below for reference \n",
    "\n",
    "<img src=\"solutions/images/part5_cmf.png\"/>"
   ]
  },
  {
   "cell_type": "code",
   "execution_count": 18,
   "metadata": {},
   "outputs": [
    {
     "data": {
      "image/png": "[encoded data removed]",
      "text/plain": [
       "<Figure size 432x288 with 1 Axes>"
      ]
     },
     "metadata": {
      "needs_background": "light"
     },
     "output_type": "display_data"
    }
   ],
   "source": [
    "cmf = np.cumsum(probs)\n",
    "plt.scatter(x=np.arange(0,8,1),\n",
    "           y=cmf)\n",
    "plt.xlabel('Event Outcome')\n",
    "plt.ylabel('P(E<=N)')\n",
    "plt.title('Cumulative Mass Function for Event Outcome')\n",
    "plt.show()"
   ]
  },
  {
   "cell_type": "markdown",
   "metadata": {},
   "source": [
    "# Level Up:\n",
    "* using np.where find salaries with zscores <= -2.0\n",
    "\n",
    "* calculate the skewness and kurtosis for the NPS Score column\n",
    "\n",
    "* plot the pdf and cdf of a given distribution"
   ]
  },
  {
   "cell_type": "code",
   "execution_count": 19,
   "metadata": {},
   "outputs": [
    {
     "data": {
      "text/html": [
       "<div>\n",
       "<style scoped>\n",
       "    .dataframe tbody tr th:only-of-type {\n",
       "        vertical-align: middle;\n",
       "    }\n",
       "\n",
       "    .dataframe tbody tr th {\n",
       "        vertical-align: top;\n",
       "    }\n",
       "\n",
       "    .dataframe thead th {\n",
       "        text-align: right;\n",
       "    }\n",
       "</style>\n",
       "<table border=\"1\" class=\"dataframe\">\n",
       "  <thead>\n",
       "    <tr style=\"text-align: right;\">\n",
       "      <th></th>\n",
       "      <th>salaries</th>\n",
       "      <th>NPS Score</th>\n",
       "      <th>eventOutcome</th>\n",
       "      <th>salaries_zscores</th>\n",
       "      <th>NPS Score_zscores</th>\n",
       "      <th>eventOutcome_zscores</th>\n",
       "    </tr>\n",
       "  </thead>\n",
       "  <tbody>\n",
       "    <tr>\n",
       "      <th>20</th>\n",
       "      <td>39383.0</td>\n",
       "      <td>47.0</td>\n",
       "      <td>1</td>\n",
       "      <td>-2.642533</td>\n",
       "      <td>0.891748</td>\n",
       "      <td>-1.103276</td>\n",
       "    </tr>\n",
       "    <tr>\n",
       "      <th>41</th>\n",
       "      <td>38063.0</td>\n",
       "      <td>2.0</td>\n",
       "      <td>5</td>\n",
       "      <td>-2.972528</td>\n",
       "      <td>-0.612719</td>\n",
       "      <td>0.637182</td>\n",
       "    </tr>\n",
       "    <tr>\n",
       "      <th>89</th>\n",
       "      <td>41458.0</td>\n",
       "      <td>65.0</td>\n",
       "      <td>7</td>\n",
       "      <td>-2.123791</td>\n",
       "      <td>1.493535</td>\n",
       "      <td>1.507411</td>\n",
       "    </tr>\n",
       "    <tr>\n",
       "      <th>107</th>\n",
       "      <td>40854.0</td>\n",
       "      <td>27.0</td>\n",
       "      <td>4</td>\n",
       "      <td>-2.274789</td>\n",
       "      <td>0.223096</td>\n",
       "      <td>0.202067</td>\n",
       "    </tr>\n",
       "    <tr>\n",
       "      <th>285</th>\n",
       "      <td>40886.0</td>\n",
       "      <td>43.0</td>\n",
       "      <td>5</td>\n",
       "      <td>-2.266789</td>\n",
       "      <td>0.758018</td>\n",
       "      <td>0.637182</td>\n",
       "    </tr>\n",
       "    <tr>\n",
       "      <th>...</th>\n",
       "      <td>...</td>\n",
       "      <td>...</td>\n",
       "      <td>...</td>\n",
       "      <td>...</td>\n",
       "      <td>...</td>\n",
       "      <td>...</td>\n",
       "    </tr>\n",
       "    <tr>\n",
       "      <th>4692</th>\n",
       "      <td>38341.0</td>\n",
       "      <td>37.0</td>\n",
       "      <td>3</td>\n",
       "      <td>-2.903029</td>\n",
       "      <td>0.557422</td>\n",
       "      <td>-0.233047</td>\n",
       "    </tr>\n",
       "    <tr>\n",
       "      <th>4707</th>\n",
       "      <td>41813.0</td>\n",
       "      <td>96.0</td>\n",
       "      <td>1</td>\n",
       "      <td>-2.035042</td>\n",
       "      <td>2.529946</td>\n",
       "      <td>-1.103276</td>\n",
       "    </tr>\n",
       "    <tr>\n",
       "      <th>4731</th>\n",
       "      <td>41184.0</td>\n",
       "      <td>21.0</td>\n",
       "      <td>0</td>\n",
       "      <td>-2.192290</td>\n",
       "      <td>0.022500</td>\n",
       "      <td>-1.538391</td>\n",
       "    </tr>\n",
       "    <tr>\n",
       "      <th>4765</th>\n",
       "      <td>40108.0</td>\n",
       "      <td>43.0</td>\n",
       "      <td>2</td>\n",
       "      <td>-2.461286</td>\n",
       "      <td>0.758018</td>\n",
       "      <td>-0.668162</td>\n",
       "    </tr>\n",
       "    <tr>\n",
       "      <th>4949</th>\n",
       "      <td>38915.0</td>\n",
       "      <td>13.0</td>\n",
       "      <td>7</td>\n",
       "      <td>-2.759531</td>\n",
       "      <td>-0.244961</td>\n",
       "      <td>1.507411</td>\n",
       "    </tr>\n",
       "  </tbody>\n",
       "</table>\n",
       "<p>123 rows × 6 columns</p>\n",
       "</div>"
      ],
      "text/plain": [
       "      salaries  NPS Score  eventOutcome  salaries_zscores  NPS Score_zscores  \\\n",
       "20     39383.0       47.0             1         -2.642533           0.891748   \n",
       "41     38063.0        2.0             5         -2.972528          -0.612719   \n",
       "89     41458.0       65.0             7         -2.123791           1.493535   \n",
       "107    40854.0       27.0             4         -2.274789           0.223096   \n",
       "285    40886.0       43.0             5         -2.266789           0.758018   \n",
       "...        ...        ...           ...               ...                ...   \n",
       "4692   38341.0       37.0             3         -2.903029           0.557422   \n",
       "4707   41813.0       96.0             1         -2.035042           2.529946   \n",
       "4731   41184.0       21.0             0         -2.192290           0.022500   \n",
       "4765   40108.0       43.0             2         -2.461286           0.758018   \n",
       "4949   38915.0       13.0             7         -2.759531          -0.244961   \n",
       "\n",
       "      eventOutcome_zscores  \n",
       "20               -1.103276  \n",
       "41                0.637182  \n",
       "89                1.507411  \n",
       "107               0.202067  \n",
       "285               0.637182  \n",
       "...                    ...  \n",
       "4692             -0.233047  \n",
       "4707             -1.103276  \n",
       "4731             -1.538391  \n",
       "4765             -0.668162  \n",
       "4949              1.507411  \n",
       "\n",
       "[123 rows x 6 columns]"
      ]
     },
     "execution_count": 19,
     "metadata": {},
     "output_type": "execute_result"
    }
   ],
   "source": [
    "# find salaries with zscores <= 2.0\n",
    "z_less = np.where(df2['salaries_zscores'] <= -2)\n",
    "df2.iloc[z_less]"
   ]
  },
  {
   "cell_type": "code",
   "execution_count": 20,
   "metadata": {},
   "outputs": [
    {
     "name": "stdout",
     "output_type": "stream",
     "text": [
      "Skewness: 0.02450527688165856\n",
      "Kurtosis: -0.04212714461681166\n"
     ]
    }
   ],
   "source": [
    "# calculate skewness and kurtosis of NPS Score column\n",
    "import scipy.stats as stats\n",
    "print('Skewness: {}'.format(stats.skew(df2['NPS Score'])))\n",
    "print('Kurtosis: {}'.format(stats.kurtosis(df2['NPS Score'])))"
   ]
  },
  {
   "cell_type": "markdown",
   "metadata": {},
   "source": [
    "# Plotting a pdf and cdf of a normal distribution\n",
    "A survey is taken that finds that students send an mean average of 80 DMs a day with a standard deviation of 6 DMS. "
   ]
  },
  {
   "cell_type": "code",
   "execution_count": 21,
   "metadata": {},
   "outputs": [
    {
     "data": {
      "image/png": "[encoded data removed]",
      "text/plain": [
       "<Figure size 864x432 with 2 Axes>"
      ]
     },
     "metadata": {
      "needs_background": "light"
     },
     "output_type": "display_data"
    }
   ],
   "source": [
    "# plot the pdf and cdf of this normal distribution. level up if you can do it in subplots\n",
    "x = np.linspace(0,160,1000)\n",
    "pdf = stats.norm.pdf(x,80,6)\n",
    "cdf = stats.norm.cdf(x,80,6)\n",
    "fig, (ax1,ax2) = plt.subplots(nrows=1, ncols=2, figsize=(12,6))\n",
    "ax1.plot(x,pdf)\n",
    "ax1.set_title('pdf')\n",
    "ax1.set_xlabel('x value')\n",
    "ax1.set_ylabel('probs')\n",
    "ax2.plot(x,cdf)\n",
    "ax2.set_title('cdf')\n",
    "ax2.set_xlabel('x value')\n",
    "plt.show()"
   ]
  },
  {
   "cell_type": "code",
   "execution_count": 22,
   "metadata": {},
   "outputs": [
    {
     "data": {
      "text/plain": [
       "0.36944134018176367"
      ]
     },
     "execution_count": 22,
     "metadata": {},
     "output_type": "execute_result"
    }
   ],
   "source": [
    "# what is the probability of drawing a student that sends at least 82 DMs a day?\n",
    "1 - stats.norm.cdf(82, 80, 6)"
   ]
  },
  {
   "cell_type": "markdown",
   "metadata": {},
   "source": [
    "A second survey is taken at another bootcamp that shows that students send a mean average of\n",
    "80 DMs a day, but they have a standard deviation of 9 DMS.  "
   ]
  },
  {
   "cell_type": "code",
   "execution_count": 23,
   "metadata": {},
   "outputs": [
    {
     "name": "stdout",
     "output_type": "stream",
     "text": [
      "probs of std 6: 0.006209665325776132\n",
      "probs of std 9: 0.0477903522728147\n",
      "Difference: 0.04158068694703857\n"
     ]
    }
   ],
   "source": [
    "# What is the difference in the probability of finding a student that sends, at most, 65 DMs a day?\n",
    "print('probs of std 6: {}'.format(stats.norm.cdf(65, 80, 6)))\n",
    "print('probs of std 9: {}'.format(stats.norm.cdf(65, 80, 9)))\n",
    "print('Difference: {}'.format(abs(stats.norm.cdf(65, 80, 6)-stats.norm.cdf(65, 80, 9))))"
   ]
  },
  {
   "cell_type": "markdown",
   "metadata": {},
   "source": [
    "# run the cell below to convert your notebook to a README for assessment"
   ]
  },
  {
   "cell_type": "code",
   "execution_count": 24,
   "metadata": {},
   "outputs": [
    {
     "name": "stdout",
     "output_type": "stream",
     "text": [
      "[NbConvertApp] Converting notebook assessment.ipynb to markdown\n",
      "[NbConvertApp] Support files will be in assessment_files/\n",
      "[NbConvertApp] Making directory assessment_files\n",
      "[NbConvertApp] Making directory assessment_files\n",
      "[NbConvertApp] Making directory assessment_files\n",
      "[NbConvertApp] Making directory assessment_files\n",
      "[NbConvertApp] Making directory assessment_files\n",
      "[NbConvertApp] Writing 12110 bytes to assessment.md\n"
     ]
    }
   ],
   "source": [
    "!jupyter nbconvert --to markdown assessment.ipynb && mv assessment.md README.md"
   ]
  }
 ],
 "metadata": {
  "kernelspec": {
   "display_name": "Python 3",
   "language": "python",
   "name": "python3"
  },
  "language_info": {
   "codemirror_mode": {
    "name": "ipython",
    "version": 3
   },
   "file_extension": ".py",
   "mimetype": "text/x-python",
   "name": "python",
   "nbconvert_exporter": "python",
   "pygments_lexer": "ipython3",
   "version": "3.6.9"
  }
 },
 "nbformat": 4,
 "nbformat_minor": 2
}
