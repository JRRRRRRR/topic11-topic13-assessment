{
 "cells": [
  {
   "cell_type": "markdown",
   "metadata": {},
   "source": [
    "# Objectives\n",
    "YW\n",
    "* scrape a website for relevant information, store that information to a dataframe and save that dataframe as a csv file\n",
    "* load in a dataframe and do the following\n",
    "    * calculate the zscores of a given column\n",
    "    * calculate the zscores of a point from a given column in the dataframe\n",
    "    * calculate and plot the pmf and cdf of another column"
   ]
  },
  {
   "cell_type": "markdown",
   "metadata": {},
   "source": [
    "# Part 1 - Webscraping\n",
    "* use the following url scrape the first page of results\n",
    "* for each item get the name of the item\n",
    "* store the names to a dataframe and save that dataframe to csv then display\n",
    "    * store the dataframe in the `data` folder in the repo\n",
    "    * name the file `part1.csv` and make sure that when you write it you set `index=False`\n",
    "* the head of the dataframe\n",
    "\n",
    "* it should match the following\n",
    "<img src=\"solutions/images/part1.png\"/>"
   ]
  },
  {
   "cell_type": "code",
   "execution_count": 60,
   "metadata": {},
   "outputs": [],
   "source": [
    "url = \"https://www.petsmart.com/dog/treats/dental-treats/#page_name=flyout&category=dog&cta=dentaltreat\""
   ]
  },
  {
   "cell_type": "code",
   "execution_count": 61,
   "metadata": {},
   "outputs": [],
   "source": [
    "import requests\n",
    "from bs4 import BeautifulSoup"
   ]
  },
  {
   "cell_type": "code",
   "execution_count": 62,
   "metadata": {},
   "outputs": [],
   "source": [
    "r = requests.get(url)"
   ]
  },
  {
   "cell_type": "code",
   "execution_count": 63,
   "metadata": {},
   "outputs": [],
   "source": [
    "soup = BeautifulSoup(r.content, 'html.parser')"
   ]
  },
  {
   "cell_type": "code",
   "execution_count": 65,
   "metadata": {},
   "outputs": [],
   "source": [
    "product_name_boxes = soup.find_all(\"div\", attrs={\"class\":\"product-name\"})"
   ]
  },
  {
   "cell_type": "code",
   "execution_count": 69,
   "metadata": {},
   "outputs": [
    {
     "data": {
      "text/plain": [
       "['\\nGreenies Regular Dental Dog Treats\\n',\n",
       " '\\nGreenies Petite Dental Dog Treats\\n',\n",
       " '\\nGreenies Large Dental Dog Treats\\n',\n",
       " '\\nPedigree Dentastix Large Dog Treats\\n',\n",
       " '\\nGreenies 6 Month+ Puppy Petite Dental Dog Treats\\n',\n",
       " '\\nGreenies 6 Month+ Puppy Dental Dog Treats\\n',\n",
       " '\\nGreenies 6 Month+ Puppy Teenie Dental Dog Treats\\n',\n",
       " '\\nGreenies Teenie Dental Dog Treats\\n',\n",
       " '\\nAuthority® Dental & DHA Stick Puppy Treats Parsley Mint - Gluten Free, Grain Free\\n',\n",
       " '\\nPedigree Dentastix Large Dog Sticks\\n',\n",
       " '\\nMilk-Bone Brushing Chews Large Dental Dog Treats\\n',\n",
       " '\\nPedigree Dentastix Triple Action Dental Dog Treats - Variety Pack\\n',\n",
       " '\\nPedigree Dentastix Small/Medium Dog Sticks\\n',\n",
       " '\\nWHIMZEES Variety Value Box Dental Dog Treat - Natural, Grain Free\\n',\n",
       " '\\nPedigree Dentastix Mini Dog Sticks\\n',\n",
       " '\\nVirbac® C.E.T.® VeggieDent® Tartar Control Dog Chews\\n',\n",
       " '\\nMilk-Bone Brushing Chews Dental Dog Treat\\n',\n",
       " '\\nAuthority® Dental & DHA Rings Puppy Treats Parsley Mint - Gluten Free, Grain Free\\n',\n",
       " '\\nPedigree Dentastix Large Dog Sticks\\n',\n",
       " '\\nGreenies Teenie Dog Dental Treats - Blueberry\\n',\n",
       " '\\nPedigree Dentastix Triple Action Small Dog Treats - Fresh\\n',\n",
       " '\\nMilk-Bone Brushing Chew Mini Dental Dog Treats\\n',\n",
       " '\\nAuthority Dental & Multivitamin Large Dog Treats Parsley Mint - Gluten Free, Grain Free\\n',\n",
       " '\\nGreenies Aging Care Dental Dog Treats, 27 oz\\n']"
      ]
     },
     "execution_count": 69,
     "metadata": {},
     "output_type": "execute_result"
    }
   ],
   "source": [
    "product_names = [product_name_box.text for product_name_box in product_name_boxes]\n",
    "product_names"
   ]
  },
  {
   "cell_type": "code",
   "execution_count": 71,
   "metadata": {},
   "outputs": [
    {
     "data": {
      "text/html": [
       "<div>\n",
       "<style scoped>\n",
       "    .dataframe tbody tr th:only-of-type {\n",
       "        vertical-align: middle;\n",
       "    }\n",
       "\n",
       "    .dataframe tbody tr th {\n",
       "        vertical-align: top;\n",
       "    }\n",
       "\n",
       "    .dataframe thead th {\n",
       "        text-align: right;\n",
       "    }\n",
       "</style>\n",
       "<table border=\"1\" class=\"dataframe\">\n",
       "  <thead>\n",
       "    <tr style=\"text-align: right;\">\n",
       "      <th></th>\n",
       "      <th>names</th>\n",
       "    </tr>\n",
       "  </thead>\n",
       "  <tbody>\n",
       "    <tr>\n",
       "      <td>0</td>\n",
       "      <td>\\nGreenies Regular Dental Dog Treats\\n</td>\n",
       "    </tr>\n",
       "    <tr>\n",
       "      <td>1</td>\n",
       "      <td>\\nGreenies Petite Dental Dog Treats\\n</td>\n",
       "    </tr>\n",
       "    <tr>\n",
       "      <td>2</td>\n",
       "      <td>\\nGreenies Large Dental Dog Treats\\n</td>\n",
       "    </tr>\n",
       "    <tr>\n",
       "      <td>3</td>\n",
       "      <td>\\nPedigree Dentastix Large Dog Treats\\n</td>\n",
       "    </tr>\n",
       "    <tr>\n",
       "      <td>4</td>\n",
       "      <td>\\nGreenies 6 Month+ Puppy Petite Dental Dog Tr...</td>\n",
       "    </tr>\n",
       "  </tbody>\n",
       "</table>\n",
       "</div>"
      ],
      "text/plain": [
       "                                               names\n",
       "0             \\nGreenies Regular Dental Dog Treats\\n\n",
       "1              \\nGreenies Petite Dental Dog Treats\\n\n",
       "2               \\nGreenies Large Dental Dog Treats\\n\n",
       "3            \\nPedigree Dentastix Large Dog Treats\\n\n",
       "4  \\nGreenies 6 Month+ Puppy Petite Dental Dog Tr..."
      ]
     },
     "execution_count": 71,
     "metadata": {},
     "output_type": "execute_result"
    }
   ],
   "source": [
    "# load the data into a dataframe file\n",
    "dff = pd.DataFrame() \n",
    "dff['names'] = product_names\n",
    "dff.head()"
   ]
  },
  {
   "cell_type": "code",
   "execution_count": 72,
   "metadata": {},
   "outputs": [
    {
     "data": {
      "text/plain": [
       "[{'name': '\\nGreenies Regular Dental Dog Treats\\n'},\n",
       " {'name': '\\nGreenies Petite Dental Dog Treats\\n'},\n",
       " {'name': '\\nGreenies Large Dental Dog Treats\\n'},\n",
       " {'name': '\\nPedigree Dentastix Large Dog Treats\\n'},\n",
       " {'name': '\\nGreenies 6 Month+ Puppy Petite Dental Dog Treats\\n'},\n",
       " {'name': '\\nGreenies 6 Month+ Puppy Dental Dog Treats\\n'},\n",
       " {'name': '\\nGreenies 6 Month+ Puppy Teenie Dental Dog Treats\\n'},\n",
       " {'name': '\\nGreenies Teenie Dental Dog Treats\\n'},\n",
       " {'name': '\\nAuthority® Dental & DHA Stick Puppy Treats Parsley Mint - Gluten Free, Grain Free\\n'},\n",
       " {'name': '\\nPedigree Dentastix Large Dog Sticks\\n'},\n",
       " {'name': '\\nMilk-Bone Brushing Chews Large Dental Dog Treats\\n'},\n",
       " {'name': '\\nPedigree Dentastix Triple Action Dental Dog Treats - Variety Pack\\n'},\n",
       " {'name': '\\nPedigree Dentastix Small/Medium Dog Sticks\\n'},\n",
       " {'name': '\\nWHIMZEES Variety Value Box Dental Dog Treat - Natural, Grain Free\\n'},\n",
       " {'name': '\\nPedigree Dentastix Mini Dog Sticks\\n'},\n",
       " {'name': '\\nVirbac® C.E.T.® VeggieDent® Tartar Control Dog Chews\\n'},\n",
       " {'name': '\\nMilk-Bone Brushing Chews Dental Dog Treat\\n'},\n",
       " {'name': '\\nAuthority® Dental & DHA Rings Puppy Treats Parsley Mint - Gluten Free, Grain Free\\n'},\n",
       " {'name': '\\nPedigree Dentastix Large Dog Sticks\\n'},\n",
       " {'name': '\\nGreenies Teenie Dog Dental Treats - Blueberry\\n'},\n",
       " {'name': '\\nPedigree Dentastix Triple Action Small Dog Treats - Fresh\\n'},\n",
       " {'name': '\\nMilk-Bone Brushing Chew Mini Dental Dog Treats\\n'},\n",
       " {'name': '\\nAuthority Dental & Multivitamin Large Dog Treats Parsley Mint - Gluten Free, Grain Free\\n'},\n",
       " {'name': '\\nGreenies Aging Care Dental Dog Treats, 27 oz\\n'}]"
      ]
     },
     "execution_count": 72,
     "metadata": {},
     "output_type": "execute_result"
    }
   ],
   "source": [
    "product_names = [{\"name\":product_name_box.text} for product_name_box in product_name_boxes]\n",
    "product_names"
   ]
  },
  {
   "cell_type": "code",
   "execution_count": 73,
   "metadata": {},
   "outputs": [
    {
     "data": {
      "text/html": [
       "<div>\n",
       "<style scoped>\n",
       "    .dataframe tbody tr th:only-of-type {\n",
       "        vertical-align: middle;\n",
       "    }\n",
       "\n",
       "    .dataframe tbody tr th {\n",
       "        vertical-align: top;\n",
       "    }\n",
       "\n",
       "    .dataframe thead th {\n",
       "        text-align: right;\n",
       "    }\n",
       "</style>\n",
       "<table border=\"1\" class=\"dataframe\">\n",
       "  <thead>\n",
       "    <tr style=\"text-align: right;\">\n",
       "      <th></th>\n",
       "      <th>name</th>\n",
       "    </tr>\n",
       "  </thead>\n",
       "  <tbody>\n",
       "    <tr>\n",
       "      <td>0</td>\n",
       "      <td>\\nGreenies Regular Dental Dog Treats\\n</td>\n",
       "    </tr>\n",
       "    <tr>\n",
       "      <td>1</td>\n",
       "      <td>\\nGreenies Petite Dental Dog Treats\\n</td>\n",
       "    </tr>\n",
       "    <tr>\n",
       "      <td>2</td>\n",
       "      <td>\\nGreenies Large Dental Dog Treats\\n</td>\n",
       "    </tr>\n",
       "    <tr>\n",
       "      <td>3</td>\n",
       "      <td>\\nPedigree Dentastix Large Dog Treats\\n</td>\n",
       "    </tr>\n",
       "    <tr>\n",
       "      <td>4</td>\n",
       "      <td>\\nGreenies 6 Month+ Puppy Petite Dental Dog Tr...</td>\n",
       "    </tr>\n",
       "  </tbody>\n",
       "</table>\n",
       "</div>"
      ],
      "text/plain": [
       "                                                name\n",
       "0             \\nGreenies Regular Dental Dog Treats\\n\n",
       "1              \\nGreenies Petite Dental Dog Treats\\n\n",
       "2               \\nGreenies Large Dental Dog Treats\\n\n",
       "3            \\nPedigree Dentastix Large Dog Treats\\n\n",
       "4  \\nGreenies 6 Month+ Puppy Petite Dental Dog Tr..."
      ]
     },
     "execution_count": 73,
     "metadata": {},
     "output_type": "execute_result"
    }
   ],
   "source": [
    "dff = pd.DataFrame(product_names)\n",
    "dff.head()"
   ]
  },
  {
   "cell_type": "code",
   "execution_count": 74,
   "metadata": {},
   "outputs": [],
   "source": [
    "# save the data as a csv file\n",
    "dff.to_csv(\"data/part1.csv\", index=False)"
   ]
  },
  {
   "cell_type": "code",
   "execution_count": 38,
   "metadata": {},
   "outputs": [],
   "source": [
    "# display df.head()"
   ]
  },
  {
   "cell_type": "markdown",
   "metadata": {},
   "source": [
    "# Part 2\n",
    "\n",
    "load in the csv file located in the `data` folder called `part2.csv`\n",
    "\n",
    "create a function that calculates the zscores of an array\n",
    "\n",
    "then calculate the zscores for each column in part2.csv and add them as columns\n",
    "\n",
    "See below for final result\n",
    "\n",
    "<img src=\"solutions/images/part2_df_preview.png\"/>"
   ]
  },
  {
   "cell_type": "code",
   "execution_count": 7,
   "metadata": {},
   "outputs": [],
   "source": [
    "import pandas as pd\n",
    "import numpy as np \n",
    "\n",
    "\n",
    "import matplotlib.pyplot as plt \n",
    "import seaborn as sns "
   ]
  },
  {
   "cell_type": "code",
   "execution_count": 8,
   "metadata": {},
   "outputs": [
    {
     "data": {
      "text/html": [
       "<div>\n",
       "<style scoped>\n",
       "    .dataframe tbody tr th:only-of-type {\n",
       "        vertical-align: middle;\n",
       "    }\n",
       "\n",
       "    .dataframe tbody tr th {\n",
       "        vertical-align: top;\n",
       "    }\n",
       "\n",
       "    .dataframe thead th {\n",
       "        text-align: right;\n",
       "    }\n",
       "</style>\n",
       "<table border=\"1\" class=\"dataframe\">\n",
       "  <thead>\n",
       "    <tr style=\"text-align: right;\">\n",
       "      <th></th>\n",
       "      <th>salaries</th>\n",
       "      <th>NPS Score</th>\n",
       "      <th>eventOutcome</th>\n",
       "    </tr>\n",
       "  </thead>\n",
       "  <tbody>\n",
       "    <tr>\n",
       "      <td>0</td>\n",
       "      <td>44112.0</td>\n",
       "      <td>-7.0</td>\n",
       "      <td>1</td>\n",
       "    </tr>\n",
       "    <tr>\n",
       "      <td>1</td>\n",
       "      <td>46777.0</td>\n",
       "      <td>-12.0</td>\n",
       "      <td>2</td>\n",
       "    </tr>\n",
       "    <tr>\n",
       "      <td>2</td>\n",
       "      <td>50013.0</td>\n",
       "      <td>50.0</td>\n",
       "      <td>5</td>\n",
       "    </tr>\n",
       "    <tr>\n",
       "      <td>3</td>\n",
       "      <td>48983.0</td>\n",
       "      <td>-13.0</td>\n",
       "      <td>0</td>\n",
       "    </tr>\n",
       "    <tr>\n",
       "      <td>4</td>\n",
       "      <td>50751.0</td>\n",
       "      <td>-11.0</td>\n",
       "      <td>6</td>\n",
       "    </tr>\n",
       "  </tbody>\n",
       "</table>\n",
       "</div>"
      ],
      "text/plain": [
       "   salaries  NPS Score  eventOutcome\n",
       "0   44112.0       -7.0             1\n",
       "1   46777.0      -12.0             2\n",
       "2   50013.0       50.0             5\n",
       "3   48983.0      -13.0             0\n",
       "4   50751.0      -11.0             6"
      ]
     },
     "execution_count": 8,
     "metadata": {},
     "output_type": "execute_result"
    }
   ],
   "source": [
    "df = pd.read_csv(\"data/part2.csv\")\n",
    "df.head()"
   ]
  },
  {
   "cell_type": "code",
   "execution_count": 9,
   "metadata": {},
   "outputs": [],
   "source": [
    "# create a function that calculates the zscores of an array\n",
    "def zscores(arr):\n",
    "    return (arr - arr.mean())/arr.std()"
   ]
  },
  {
   "cell_type": "code",
   "execution_count": 10,
   "metadata": {},
   "outputs": [
    {
     "data": {
      "text/html": [
       "<div>\n",
       "<style scoped>\n",
       "    .dataframe tbody tr th:only-of-type {\n",
       "        vertical-align: middle;\n",
       "    }\n",
       "\n",
       "    .dataframe tbody tr th {\n",
       "        vertical-align: top;\n",
       "    }\n",
       "\n",
       "    .dataframe thead th {\n",
       "        text-align: right;\n",
       "    }\n",
       "</style>\n",
       "<table border=\"1\" class=\"dataframe\">\n",
       "  <thead>\n",
       "    <tr style=\"text-align: right;\">\n",
       "      <th></th>\n",
       "      <th>salaries</th>\n",
       "      <th>NPS Score</th>\n",
       "      <th>eventOutcome</th>\n",
       "      <th>salaries_zscores</th>\n",
       "      <th>NPS Score_zscores</th>\n",
       "      <th>eventOutcome_zscores</th>\n",
       "    </tr>\n",
       "  </thead>\n",
       "  <tbody>\n",
       "    <tr>\n",
       "      <td>0</td>\n",
       "      <td>44112.0</td>\n",
       "      <td>-7.0</td>\n",
       "      <td>1</td>\n",
       "      <td>-1.460155</td>\n",
       "      <td>-0.913522</td>\n",
       "      <td>-1.103166</td>\n",
       "    </tr>\n",
       "    <tr>\n",
       "      <td>1</td>\n",
       "      <td>46777.0</td>\n",
       "      <td>-12.0</td>\n",
       "      <td>2</td>\n",
       "      <td>-0.793981</td>\n",
       "      <td>-1.080668</td>\n",
       "      <td>-0.668095</td>\n",
       "    </tr>\n",
       "    <tr>\n",
       "      <td>2</td>\n",
       "      <td>50013.0</td>\n",
       "      <td>50.0</td>\n",
       "      <td>5</td>\n",
       "      <td>0.014926</td>\n",
       "      <td>0.991947</td>\n",
       "      <td>0.637118</td>\n",
       "    </tr>\n",
       "    <tr>\n",
       "      <td>3</td>\n",
       "      <td>48983.0</td>\n",
       "      <td>-13.0</td>\n",
       "      <td>0</td>\n",
       "      <td>-0.242545</td>\n",
       "      <td>-1.114097</td>\n",
       "      <td>-1.538237</td>\n",
       "    </tr>\n",
       "    <tr>\n",
       "      <td>4</td>\n",
       "      <td>50751.0</td>\n",
       "      <td>-11.0</td>\n",
       "      <td>6</td>\n",
       "      <td>0.199405</td>\n",
       "      <td>-1.047239</td>\n",
       "      <td>1.072189</td>\n",
       "    </tr>\n",
       "  </tbody>\n",
       "</table>\n",
       "</div>"
      ],
      "text/plain": [
       "   salaries  NPS Score  eventOutcome  salaries_zscores  NPS Score_zscores  \\\n",
       "0   44112.0       -7.0             1         -1.460155          -0.913522   \n",
       "1   46777.0      -12.0             2         -0.793981          -1.080668   \n",
       "2   50013.0       50.0             5          0.014926           0.991947   \n",
       "3   48983.0      -13.0             0         -0.242545          -1.114097   \n",
       "4   50751.0      -11.0             6          0.199405          -1.047239   \n",
       "\n",
       "   eventOutcome_zscores  \n",
       "0             -1.103166  \n",
       "1             -0.668095  \n",
       "2              0.637118  \n",
       "3             -1.538237  \n",
       "4              1.072189  "
      ]
     },
     "execution_count": 10,
     "metadata": {},
     "output_type": "execute_result"
    }
   ],
   "source": [
    "# calculate the zscore for each column and store them as a new column with the names used above\n",
    "for col in df.columns:\n",
    "    new_col_name = '_'.join([col, \"zscores\"])\n",
    "    col_zscores = zscores(df[col])\n",
    "    df[new_col_name] = col_zscores\n",
    "df.head()"
   ]
  },
  {
   "cell_type": "markdown",
   "metadata": {},
   "source": [
    "# Part 3 \n",
    "plot 'salaries' and 'NPS Score' on a subplot (1 row 2 columns) \n",
    "then repeat this for the zscores\n",
    "\n",
    "see image below for reference\n",
    "<img src=\"solutions/images/part2-plots.png\"/>"
   ]
  },
  {
   "cell_type": "code",
   "execution_count": 14,
   "metadata": {},
   "outputs": [
    {
     "data": {
      "image/png": "[encoded data removed]",
      "text/plain": [
       "<Figure size 1152x360 with 2 Axes>"
      ]
     },
     "metadata": {
      "needs_background": "light"
     },
     "output_type": "display_data"
    }
   ],
   "source": [
    "# plot for raw salaries and NPS Score data goes here\n",
    "fig, ax = plt.subplots(nrows=1, ncols=2, figsize=(16, 5))\n",
    "\n",
    "plt.subplot(121)\n",
    "plt.grid()\n",
    "plt.hist(df['salaries'])\n",
    "plt.title(\"Salaries\")\n",
    "plt.xlabel(\"salaries\")\n",
    "\n",
    "plt.subplot(122)\n",
    "plt.hist(df['NPS Score'])\n",
    "plt.title(\"NPS Score\")\n",
    "plt.xlabel(\"NPS Score\")\n",
    "\n",
    "plt.show()"
   ]
  },
  {
   "cell_type": "code",
   "execution_count": 16,
   "metadata": {},
   "outputs": [
    {
     "data": {
      "image/png": "[encoded data removed]",
      "text/plain": [
       "<Figure size 1152x360 with 2 Axes>"
      ]
     },
     "metadata": {
      "needs_background": "light"
     },
     "output_type": "display_data"
    }
   ],
   "source": [
    "# plot for zscores for salaries and NPS Score data goes here\n",
    "fig, ax = plt.subplots(nrows=1, ncols=2, figsize=(16, 5))\n",
    "\n",
    "plt.subplot(121)\n",
    "plt.hist(df['salaries_zscores'])\n",
    "plt.title(\"Salaries\")\n",
    "plt.xlabel(\"salaries\")\n",
    "\n",
    "plt.subplot(122)\n",
    "plt.hist(df['NPS Score_zscores'])\n",
    "plt.title(\"NPS Score\")\n",
    "plt.xlabel(\"NPS Score\")\n",
    "\n",
    "plt.show()"
   ]
  },
  {
   "cell_type": "markdown",
   "metadata": {},
   "source": [
    "# Part 4 - PMF\n",
    "using the column 'eventOutcomes'\n",
    "\n",
    "create a PMF and plot the PMF as a bar chart\n",
    "\n",
    "See image below for referenc\n",
    "\n",
    "<img src=\"solutions/images/part4_pmf.png\"/>"
   ]
  },
  {
   "cell_type": "code",
   "execution_count": 38,
   "metadata": {},
   "outputs": [
    {
     "data": {
      "text/plain": [
       "0    0.1248\n",
       "1    0.1216\n",
       "2    0.1184\n",
       "3    0.1272\n",
       "4    0.1332\n",
       "5    0.1182\n",
       "6    0.1244\n",
       "7    0.1322\n",
       "Name: eventOutcome, dtype: float64"
      ]
     },
     "execution_count": 38,
     "metadata": {},
     "output_type": "execute_result"
    }
   ],
   "source": [
    "event_counts = df['eventOutcome'].value_counts(normalize=True).sort_index()\n",
    "event_counts"
   ]
  },
  {
   "cell_type": "code",
   "execution_count": 39,
   "metadata": {},
   "outputs": [
    {
     "data": {
      "image/png": "[encoded data removed]",
      "text/plain": [
       "<Figure size 432x288 with 1 Axes>"
      ]
     },
     "metadata": {
      "needs_background": "light"
     },
     "output_type": "display_data"
    }
   ],
   "source": [
    "ax = event_counts.plot(kind='bar')\n",
    "ax.set_title(\"Event Counts PMF\")\n",
    "ax.set_ylabel(\"Probability\")\n",
    "ax.set_xlabel(\"Event Outcome\")\n",
    "plt.show()"
   ]
  },
  {
   "cell_type": "markdown",
   "metadata": {},
   "source": [
    "# Part 5 - CDF\n",
    "plot the CDF of Event Outcomes as a scatter plot using the information above\n",
    "\n",
    "See image below for reference \n",
    "\n",
    "<img src=\"solutions/images/part5_cmf.png\"/>"
   ]
  },
  {
   "cell_type": "code",
   "execution_count": 40,
   "metadata": {},
   "outputs": [
    {
     "data": {
      "text/plain": [
       "0    0.1248\n",
       "1    0.2464\n",
       "2    0.3648\n",
       "3    0.4920\n",
       "4    0.6252\n",
       "5    0.7434\n",
       "6    0.8678\n",
       "7    1.0000\n",
       "Name: eventOutcome, dtype: float64"
      ]
     },
     "execution_count": 40,
     "metadata": {},
     "output_type": "execute_result"
    }
   ],
   "source": [
    "event_cumsum = np.cumsum(event_counts)\n",
    "event_cumsum"
   ]
  },
  {
   "cell_type": "code",
   "execution_count": 46,
   "metadata": {},
   "outputs": [
    {
     "data": {
      "image/png": "[encoded data removed]",
      "text/plain": [
       "<Figure size 432x288 with 1 Axes>"
      ]
     },
     "metadata": {
      "needs_background": "light"
     },
     "output_type": "display_data"
    }
   ],
   "source": [
    "plt.scatter(event_cumsum.index, event_cumsum.values)\n",
    "plt.title(\"Event Counts CDF\")\n",
    "plt.ylabel(\"P(E<=N)\")\n",
    "plt.xlabel(\"Event Outcome\")\n",
    "plt.show()"
   ]
  },
  {
   "cell_type": "markdown",
   "metadata": {},
   "source": [
    "# Bonus:\n",
    "* using np.where find salaries with zscores <= -2.0\n",
    "\n",
    "* calculate the skewness and kurtosis for the NPS Score column"
   ]
  },
  {
   "cell_type": "code",
   "execution_count": 52,
   "metadata": {},
   "outputs": [
    {
     "data": {
      "text/html": [
       "<div>\n",
       "<style scoped>\n",
       "    .dataframe tbody tr th:only-of-type {\n",
       "        vertical-align: middle;\n",
       "    }\n",
       "\n",
       "    .dataframe tbody tr th {\n",
       "        vertical-align: top;\n",
       "    }\n",
       "\n",
       "    .dataframe thead th {\n",
       "        text-align: right;\n",
       "    }\n",
       "</style>\n",
       "<table border=\"1\" class=\"dataframe\">\n",
       "  <thead>\n",
       "    <tr style=\"text-align: right;\">\n",
       "      <th></th>\n",
       "      <th>salaries_zscores</th>\n",
       "    </tr>\n",
       "  </thead>\n",
       "  <tbody>\n",
       "    <tr>\n",
       "      <td>20</td>\n",
       "      <td>-2.642269</td>\n",
       "    </tr>\n",
       "    <tr>\n",
       "      <td>41</td>\n",
       "      <td>-2.972231</td>\n",
       "    </tr>\n",
       "    <tr>\n",
       "      <td>89</td>\n",
       "      <td>-2.123578</td>\n",
       "    </tr>\n",
       "    <tr>\n",
       "      <td>107</td>\n",
       "      <td>-2.274561</td>\n",
       "    </tr>\n",
       "    <tr>\n",
       "      <td>285</td>\n",
       "      <td>-2.266562</td>\n",
       "    </tr>\n",
       "    <tr>\n",
       "      <td>...</td>\n",
       "      <td>...</td>\n",
       "    </tr>\n",
       "    <tr>\n",
       "      <td>4692</td>\n",
       "      <td>-2.902739</td>\n",
       "    </tr>\n",
       "    <tr>\n",
       "      <td>4707</td>\n",
       "      <td>-2.034839</td>\n",
       "    </tr>\n",
       "    <tr>\n",
       "      <td>4731</td>\n",
       "      <td>-2.192071</td>\n",
       "    </tr>\n",
       "    <tr>\n",
       "      <td>4765</td>\n",
       "      <td>-2.461040</td>\n",
       "    </tr>\n",
       "    <tr>\n",
       "      <td>4949</td>\n",
       "      <td>-2.759255</td>\n",
       "    </tr>\n",
       "  </tbody>\n",
       "</table>\n",
       "<p>123 rows × 1 columns</p>\n",
       "</div>"
      ],
      "text/plain": [
       "      salaries_zscores\n",
       "20           -2.642269\n",
       "41           -2.972231\n",
       "89           -2.123578\n",
       "107          -2.274561\n",
       "285          -2.266562\n",
       "...                ...\n",
       "4692         -2.902739\n",
       "4707         -2.034839\n",
       "4731         -2.192071\n",
       "4765         -2.461040\n",
       "4949         -2.759255\n",
       "\n",
       "[123 rows x 1 columns]"
      ]
     },
     "execution_count": 52,
     "metadata": {},
     "output_type": "execute_result"
    }
   ],
   "source": [
    "# find salaries with zscores <= -2.0\n",
    "df.iloc[np.where(df['salaries_zscores']<=-2.0)][['salaries_zscores']]"
   ]
  },
  {
   "cell_type": "code",
   "execution_count": 53,
   "metadata": {},
   "outputs": [],
   "source": [
    "# calculate skewness and kurtosis of NPS Score column\n",
    "import scipy.stats as scs"
   ]
  },
  {
   "cell_type": "code",
   "execution_count": 57,
   "metadata": {},
   "outputs": [
    {
     "data": {
      "text/plain": [
       "0.02450527688165856"
      ]
     },
     "execution_count": 57,
     "metadata": {},
     "output_type": "execute_result"
    }
   ],
   "source": [
    "scs.skew(df['NPS Score'])"
   ]
  },
  {
   "cell_type": "code",
   "execution_count": 55,
   "metadata": {},
   "outputs": [
    {
     "data": {
      "text/plain": [
       "-0.04212714461681166"
      ]
     },
     "execution_count": 55,
     "metadata": {},
     "output_type": "execute_result"
    }
   ],
   "source": [
    "scs.kurtosis(df['NPS Score'])"
   ]
  },
  {
   "cell_type": "markdown",
   "metadata": {},
   "source": [
    "# run the cell below to convert your notebook to a README for assessment"
   ]
  },
  {
   "cell_type": "code",
   "execution_count": null,
   "metadata": {},
   "outputs": [],
   "source": [
    "!jupyter nbconvert --to markdown assessment.ipynb && mv assessment.md README.md"
   ]
  }
 ],
 "metadata": {
  "kernelspec": {
   "display_name": "Python [conda env:flatiron-env] *",
   "language": "python",
   "name": "conda-env-flatiron-env-py"
  },
  "language_info": {
   "codemirror_mode": {
    "name": "ipython",
    "version": 3
   },
   "file_extension": ".py",
   "mimetype": "text/x-python",
   "name": "python",
   "nbconvert_exporter": "python",
   "pygments_lexer": "ipython3",
   "version": "3.6.0"
  }
 },
 "nbformat": 4,
 "nbformat_minor": 2
}
